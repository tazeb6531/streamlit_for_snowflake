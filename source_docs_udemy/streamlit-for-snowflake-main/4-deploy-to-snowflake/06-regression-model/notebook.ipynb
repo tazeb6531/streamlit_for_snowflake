{
 "cells": [
  {
   "cell_type": "markdown",
   "metadata": {},
   "source": [
    "### 1. Initialize"
   ]
  },
  {
   "cell_type": "code",
   "execution_count": 1,
   "metadata": {},
   "outputs": [
    {
     "name": "stdout",
     "output_type": "stream",
     "text": [
      "-----------------------------------------------------------------------\n",
      "|\"ACCT\"    |\"WH\"        |\"DB\"                  |\"SCHEMA\"  |\"VERSION\"  |\n",
      "-----------------------------------------------------------------------\n",
      "|HDB90888  |COMPUTE_WH  |FINANCIAL_REGRESSION  |PUBLIC    |7.44.2     |\n",
      "-----------------------------------------------------------------------\n",
      "\n"
     ]
    }
   ],
   "source": [
    "from snowflake.snowpark.session import Session\n",
    "from snowflake.snowpark.types import IntegerType, FloatType\n",
    "from snowflake.snowpark.functions import col, year, month\n",
    "from sklearn.linear_model import LinearRegression\n",
    "\n",
    "pars = {\n",
    "    \"account\": \"hdb90888\",\n",
    "    \"user\": \"cristiscu\",\n",
    "    \"password\": \"...\",              # <-- do not hard-code this!!!\n",
    "    \"warehouse\": \"COMPUTE_WH\",\n",
    "    \"role\": \"ACCOUNTADMIN\",\n",
    "    \"database\": \"FINANCIAL_REGRESSION\",\n",
    "    \"schema\": \"PUBLIC\"\n",
    "}\n",
    "session = Session.builder.configs(pars).create()\n",
    "\n",
    "# test connection\n",
    "session.sql(\"select current_account() acct,\"\n",
    "    + \" current_warehouse() wh,\"\n",
    "    + \" current_database() db,\"\n",
    "    + \" current_schema() schema,\"\n",
    "    + \" current_version() version\").show()"
   ]
  },
  {
   "cell_type": "markdown",
   "metadata": {},
   "source": [
    "### 2. Query the data"
   ]
  },
  {
   "cell_type": "code",
   "execution_count": 2,
   "metadata": {},
   "outputs": [
    {
     "name": "stdout",
     "output_type": "stream",
     "text": [
      "------------------------------------------------------\n",
      "|\"VARIABLE_NAME\"                                     |\n",
      "------------------------------------------------------\n",
      "|Assets: Other Factors Supplying Reserve Balance...  |\n",
      "|Other Deposits, Large Domestically Chartered Co...  |\n",
      "|Liabilities and Capital: Liabilities: Deposits:...  |\n",
      "|Securities in Bank Credit, Domestically Charter...  |\n",
      "|Advance Retail Sales: Food Services and Drinkin...  |\n",
      "|Assets: Securities Held Outright: Federal Agenc...  |\n",
      "|Treasury and Agency Securities, Foreign-Related...  |\n",
      "|Assets: Liquidity and Credit Facilities: Loans:...  |\n",
      "|Liabilities and Capital: Capital: Surplus: Wedn...  |\n",
      "|Liabilities and Capital: Capital: Surplus: Wedn...  |\n",
      "------------------------------------------------------\n",
      "\n",
      "--------------\n",
      "|\"COUNT(*)\"  |\n",
      "--------------\n",
      "|2281559     |\n",
      "--------------\n",
      "\n"
     ]
    }
   ],
   "source": [
    "table = \"FINANCIAL__ECONOMIC_ESSENTIALS.CYBERSYN.FINANCIAL_FRED_TIMESERIES\"\n",
    "\n",
    "# What financial data is available as a time-series from FRED?\n",
    "session.sql(f\"SELECT DISTINCT variable_name FROM {table}\").show()\n",
    "\n",
    "# What is the size of all the time-series data?\n",
    "session.sql(f\"SELECT COUNT(*) FROM {table}\").show()"
   ]
  },
  {
   "cell_type": "markdown",
   "metadata": {},
   "source": [
    "### 3. Train a Linear Regression model"
   ]
  },
  {
   "cell_type": "code",
   "execution_count": 3,
   "metadata": {},
   "outputs": [
    {
     "name": "stdout",
     "output_type": "stream",
     "text": [
      "    Year      PCE\n",
      "47  2019  102.714\n",
      "48  2020  104.458\n",
      "49  2021  106.145\n",
      "50  2022  112.829\n",
      "51  2023  119.011\n",
      "\n",
      "Prediction for 2024: 114.7\n"
     ]
    }
   ],
   "source": [
    "df = (session\n",
    "    .table(\"FINANCIAL__ECONOMIC_ESSENTIALS.CYBERSYN.FINANCIAL_FRED_TIMESERIES\")\n",
    "    .filter(col('VARIABLE_NAME') == 'Personal Consumption Expenditures: Chain-type Price Index, Seasonally adjusted, Monthly, Index 2017=100')\n",
    "    .filter(col('DATE') >= '1972-01-01')\n",
    "    .filter(month(col('DATE')) == 1)\n",
    "    .select(year(col(\"DATE\")).alias('\"Year\"'), col('VALUE').alias('PCE'))\n",
    "    .orderBy(col('DATE'))\n",
    "    .to_pandas())\n",
    "print(df.tail())\n",
    "\n",
    "x = df[\"Year\"].to_numpy().reshape(-1,1)\n",
    "y = df[\"PCE\"].to_numpy()\n",
    "model = LinearRegression().fit(x, y)\n",
    "\n",
    "pred = model.predict([[2024]])\n",
    "print(f'\\nPrediction for 2024: {str(round(pred[0], 2))}')"
   ]
  },
  {
   "cell_type": "markdown",
   "metadata": {},
   "source": [
    "### 4. Create a UDF to do the scoring"
   ]
  },
  {
   "cell_type": "code",
   "execution_count": 4,
   "metadata": {},
   "outputs": [
    {
     "name": "stderr",
     "output_type": "stream",
     "text": [
      "The version of package 'scikit-learn' in the local environment is 1.3.2, which does not fit the criteria for the requirement 'scikit-learn'. Your UDF might not work when the package version is different between the server and your local environment.\n"
     ]
    },
    {
     "name": "stdout",
     "output_type": "stream",
     "text": [
      "---------------------------\n",
      "|\"PREDICT_PCE_UDF(2024)\"  |\n",
      "---------------------------\n",
      "|114.7                    |\n",
      "---------------------------\n",
      "\n"
     ]
    }
   ],
   "source": [
    "def predict_pce(predYear: int) -> float:\n",
    "    return model.predict([[predYear]])[0].round(2).astype(float)\n",
    "\n",
    "session.udf.register(\n",
    "    predict_pce, name=\"predict_pce_udf\", \n",
    "    input_type=IntegerType(), return_type=FloatType(),\n",
    "    stage_location=\"@stage\", packages=[\"pandas\", \"scikit-learn\"],\n",
    "    is_permanent=True, replace=True)\n",
    "\n",
    "session.sql(\"select predict_pce_udf(2024)\").show()"
   ]
  }
 ],
 "metadata": {
  "interpreter": {
   "hash": "5b98838a36a1bf359ee115d54329302090fcdf6f49377588f49b385a9a18b1c4"
  },
  "kernelspec": {
   "display_name": "Python 3.8.13 ('snowpark')",
   "language": "python",
   "name": "python3"
  },
  "language_info": {
   "codemirror_mode": {
    "name": "ipython",
    "version": 3
   },
   "file_extension": ".py",
   "mimetype": "text/x-python",
   "name": "python",
   "nbconvert_exporter": "python",
   "pygments_lexer": "ipython3",
   "version": "3.9.6"
  },
  "orig_nbformat": 4
 },
 "nbformat": 4,
 "nbformat_minor": 2
}
